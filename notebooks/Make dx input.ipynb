{
 "cells": [
  {
   "cell_type": "code",
   "execution_count": 2,
   "id": "72236279",
   "metadata": {},
   "outputs": [],
   "source": [
    "import os \n",
    "\n",
    "os.chdir('E://bond-dex/bond-amm-research/')"
   ]
  },
  {
   "cell_type": "code",
   "execution_count": 3,
   "id": "71a8f175",
   "metadata": {
    "tags": []
   },
   "outputs": [],
   "source": [
    "import pandas as pd \n",
    "import numpy as np \n",
    "import seaborn as sns\n",
    "import matplotlib.pyplot as plt "
   ]
  },
  {
   "cell_type": "code",
   "execution_count": 4,
   "id": "647afafb",
   "metadata": {
    "tags": []
   },
   "outputs": [],
   "source": [
    "class Rate(): \n",
    "    \n",
    "    def __init__(self, T, N, r0, a, b, sigma): \n",
    "        self.T = T\n",
    "        self.N = N \n",
    "        self.r0 = r0 \n",
    "        self.a = a \n",
    "        self.b = b \n",
    "        self.sigma = sigma \n",
    "        self.dt = T / N\n",
    "        \n",
    "        np.random.seed(5)\n",
    "        \n",
    "    def cir(self): \n",
    "        \n",
    "        out = np.zeros(self.N)\n",
    "        \n",
    "        out[0] = r0 \n",
    "        \n",
    "        for i in range(self.N - 1):\n",
    "            dr_i = self.a * (self.b - out[i]) * self.dt + self.sigma * np.sqrt(out[i]) * np.random.normal() * np.sqrt(self.dt)\n",
    "            out[i + 1] = out[i] + dr_i\n",
    "        \n",
    "        return out"
   ]
  },
  {
   "cell_type": "code",
   "execution_count": 5,
   "id": "0402047f",
   "metadata": {
    "tags": []
   },
   "outputs": [],
   "source": [
    "def calculate_x(r, r_min, r_max, A, t, T): \n",
    "    tau = T - t \n",
    "    return A * (r - r_min) * np.exp(-(r_max - r)**2 / (2 * (r_max - r_min)) * tau)\n",
    "\n",
    "\n",
    "def calculate_y(r, r_min, r_max, A, t, T): \n",
    "    tau = T - t \n",
    "    return A * (r_max - r) * np.exp(-(r_max - r)**2 / (2 * (r_max - r_min)) * tau - r * tau)"
   ]
  },
  {
   "cell_type": "code",
   "execution_count": 6,
   "id": "356c6164",
   "metadata": {
    "tags": []
   },
   "outputs": [],
   "source": [
    "T = 1\n",
    "N = int(T * 365 * 24 * 60)\n",
    "\n",
    "sigma=0.05\n",
    "a=5\n",
    "b=0.05\n",
    "\n",
    "r0 = 0.05\n",
    "\n",
    "y0 = 0.5"
   ]
  },
  {
   "cell_type": "code",
   "execution_count": 7,
   "id": "17154b81",
   "metadata": {
    "tags": []
   },
   "outputs": [],
   "source": [
    "rate = Rate(T=T, N=N, r0=r0, a=a, b=b, sigma=sigma)\n",
    "\n",
    "r = rate.cir()"
   ]
  },
  {
   "cell_type": "code",
   "execution_count": 8,
   "id": "e0490650",
   "metadata": {},
   "outputs": [],
   "source": [
    "r_min, r_max = 0.01, 0.1"
   ]
  },
  {
   "cell_type": "code",
   "execution_count": 9,
   "id": "c0ac3f8f",
   "metadata": {
    "tags": []
   },
   "outputs": [],
   "source": [
    "A = y0 / calculate_y(r0, r_min, r_max, A=1, t=0, T=T)"
   ]
  },
  {
   "cell_type": "code",
   "execution_count": 10,
   "id": "2db615d4",
   "metadata": {
    "tags": []
   },
   "outputs": [],
   "source": [
    "x = calculate_x(r, r_min, r_max, A=A, t=np.arange(0, N) * T / N, T=T)\n",
    "y = calculate_y(r, r_min, r_max, A=A, t=np.arange(0, N) * T / N, T=T)"
   ]
  },
  {
   "cell_type": "markdown",
   "id": "cace540e-cb1d-4cd5-bef1-d1e3eb66c4ec",
   "metadata": {},
   "source": [
    "<font color='red'>**Sample trades over time**</font>"
   ]
  },
  {
   "cell_type": "code",
   "execution_count": 11,
   "id": "6f8f4146-dce3-450a-b32c-0eaa1528cd69",
   "metadata": {},
   "outputs": [],
   "source": [
    "dx = np.diff(x)\n",
    "dy = np.diff(y)"
   ]
  },
  {
   "cell_type": "code",
   "execution_count": 12,
   "id": "9b308fbd-0d40-44a9-9835-76609422f0fb",
   "metadata": {},
   "outputs": [],
   "source": [
    "def sample_trade(dx, dy):\n",
    "    N = len(dx)\n",
    "    \n",
    "    trade_side = np.random.binomial(n=1, p=0.5, size=N)\n",
    "    \n",
    "    trade_size = np.where(trade_side == 1, dy, dx)\n",
    "    \n",
    "    return trade_side, trade_size"
   ]
  },
  {
   "cell_type": "code",
   "execution_count": 13,
   "id": "93738582-82a3-4896-ba45-cd709df954e2",
   "metadata": {},
   "outputs": [],
   "source": [
    "trade_sides, trade_volumes = sample_trade(dx, dy)"
   ]
  },
  {
   "cell_type": "markdown",
   "id": "5142124b",
   "metadata": {},
   "source": [
    "### Save simulated trade to csv"
   ]
  },
  {
   "cell_type": "code",
   "execution_count": 14,
   "id": "f662c4e5",
   "metadata": {},
   "outputs": [],
   "source": [
    "trade_df = pd.DataFrame({'dx': dx, 'dy': dy})\n",
    "trade_df['action'] = trade_df.dx.apply(lambda x: 'lend' if x < 0 else 'borrow')\n",
    "trade_df = trade_df.reset_index().rename(\n",
    "    columns={'index': 'timestamp', 'dx': 'bond_volume'}\n",
    ")[['timestamp', 'action', 'bond_volume']]\n",
    "trade_df.bond_volume = np.abs(trade_df.bond_volume)\n",
    "trade_df.timestamp += 1"
   ]
  },
  {
   "cell_type": "code",
   "execution_count": 15,
   "id": "e3cddf91",
   "metadata": {},
   "outputs": [
    {
     "data": {
      "text/html": [
       "<div>\n",
       "<style scoped>\n",
       "    .dataframe tbody tr th:only-of-type {\n",
       "        vertical-align: middle;\n",
       "    }\n",
       "\n",
       "    .dataframe tbody tr th {\n",
       "        vertical-align: top;\n",
       "    }\n",
       "\n",
       "    .dataframe thead tr th {\n",
       "        text-align: left;\n",
       "    }\n",
       "\n",
       "    .dataframe thead tr:last-of-type th {\n",
       "        text-align: right;\n",
       "    }\n",
       "</style>\n",
       "<table border=\"1\" class=\"dataframe\">\n",
       "  <thead>\n",
       "    <tr>\n",
       "      <th></th>\n",
       "      <th colspan=\"8\" halign=\"left\">bond_volume</th>\n",
       "    </tr>\n",
       "    <tr>\n",
       "      <th></th>\n",
       "      <th>count</th>\n",
       "      <th>mean</th>\n",
       "      <th>std</th>\n",
       "      <th>min</th>\n",
       "      <th>25%</th>\n",
       "      <th>50%</th>\n",
       "      <th>75%</th>\n",
       "      <th>max</th>\n",
       "    </tr>\n",
       "    <tr>\n",
       "      <th>action</th>\n",
       "      <th></th>\n",
       "      <th></th>\n",
       "      <th></th>\n",
       "      <th></th>\n",
       "      <th></th>\n",
       "      <th></th>\n",
       "      <th></th>\n",
       "      <th></th>\n",
       "    </tr>\n",
       "  </thead>\n",
       "  <tbody>\n",
       "    <tr>\n",
       "      <th>borrow</th>\n",
       "      <td>262119.0</td>\n",
       "      <td>0.000131</td>\n",
       "      <td>0.000099</td>\n",
       "      <td>2.817472e-10</td>\n",
       "      <td>0.000053</td>\n",
       "      <td>0.000111</td>\n",
       "      <td>0.000189</td>\n",
       "      <td>0.000737</td>\n",
       "    </tr>\n",
       "    <tr>\n",
       "      <th>lend</th>\n",
       "      <td>263480.0</td>\n",
       "      <td>0.000131</td>\n",
       "      <td>0.000099</td>\n",
       "      <td>2.215225e-10</td>\n",
       "      <td>0.000052</td>\n",
       "      <td>0.000110</td>\n",
       "      <td>0.000189</td>\n",
       "      <td>0.000746</td>\n",
       "    </tr>\n",
       "  </tbody>\n",
       "</table>\n",
       "</div>"
      ],
      "text/plain": [
       "       bond_volume                                                        \\\n",
       "             count      mean       std           min       25%       50%   \n",
       "action                                                                     \n",
       "borrow    262119.0  0.000131  0.000099  2.817472e-10  0.000053  0.000111   \n",
       "lend      263480.0  0.000131  0.000099  2.215225e-10  0.000052  0.000110   \n",
       "\n",
       "                            \n",
       "             75%       max  \n",
       "action                      \n",
       "borrow  0.000189  0.000737  \n",
       "lend    0.000189  0.000746  "
      ]
     },
     "execution_count": 15,
     "metadata": {},
     "output_type": "execute_result"
    }
   ],
   "source": [
    "trade_df.groupby('action').agg({'bond_volume': 'describe'})"
   ]
  },
  {
   "cell_type": "code",
   "execution_count": 16,
   "id": "9153c37c",
   "metadata": {},
   "outputs": [
    {
     "data": {
      "text/html": [
       "<div>\n",
       "<style scoped>\n",
       "    .dataframe tbody tr th:only-of-type {\n",
       "        vertical-align: middle;\n",
       "    }\n",
       "\n",
       "    .dataframe tbody tr th {\n",
       "        vertical-align: top;\n",
       "    }\n",
       "\n",
       "    .dataframe thead th {\n",
       "        text-align: right;\n",
       "    }\n",
       "</style>\n",
       "<table border=\"1\" class=\"dataframe\">\n",
       "  <thead>\n",
       "    <tr style=\"text-align: right;\">\n",
       "      <th></th>\n",
       "      <th>timestamp</th>\n",
       "      <th>action</th>\n",
       "      <th>bond_volume</th>\n",
       "    </tr>\n",
       "  </thead>\n",
       "  <tbody>\n",
       "    <tr>\n",
       "      <th>0</th>\n",
       "      <td>1</td>\n",
       "      <td>borrow</td>\n",
       "      <td>0.000073</td>\n",
       "    </tr>\n",
       "    <tr>\n",
       "      <th>1</th>\n",
       "      <td>2</td>\n",
       "      <td>lend</td>\n",
       "      <td>0.000055</td>\n",
       "    </tr>\n",
       "    <tr>\n",
       "      <th>2</th>\n",
       "      <td>3</td>\n",
       "      <td>borrow</td>\n",
       "      <td>0.000403</td>\n",
       "    </tr>\n",
       "    <tr>\n",
       "      <th>3</th>\n",
       "      <td>4</td>\n",
       "      <td>lend</td>\n",
       "      <td>0.000042</td>\n",
       "    </tr>\n",
       "    <tr>\n",
       "      <th>4</th>\n",
       "      <td>5</td>\n",
       "      <td>borrow</td>\n",
       "      <td>0.000018</td>\n",
       "    </tr>\n",
       "    <tr>\n",
       "      <th>...</th>\n",
       "      <td>...</td>\n",
       "      <td>...</td>\n",
       "      <td>...</td>\n",
       "    </tr>\n",
       "    <tr>\n",
       "      <th>525594</th>\n",
       "      <td>525595</td>\n",
       "      <td>lend</td>\n",
       "      <td>0.000003</td>\n",
       "    </tr>\n",
       "    <tr>\n",
       "      <th>525595</th>\n",
       "      <td>525596</td>\n",
       "      <td>borrow</td>\n",
       "      <td>0.000276</td>\n",
       "    </tr>\n",
       "    <tr>\n",
       "      <th>525596</th>\n",
       "      <td>525597</td>\n",
       "      <td>lend</td>\n",
       "      <td>0.000138</td>\n",
       "    </tr>\n",
       "    <tr>\n",
       "      <th>525597</th>\n",
       "      <td>525598</td>\n",
       "      <td>lend</td>\n",
       "      <td>0.000058</td>\n",
       "    </tr>\n",
       "    <tr>\n",
       "      <th>525598</th>\n",
       "      <td>525599</td>\n",
       "      <td>borrow</td>\n",
       "      <td>0.000006</td>\n",
       "    </tr>\n",
       "  </tbody>\n",
       "</table>\n",
       "<p>525599 rows × 3 columns</p>\n",
       "</div>"
      ],
      "text/plain": [
       "        timestamp  action  bond_volume\n",
       "0               1  borrow     0.000073\n",
       "1               2    lend     0.000055\n",
       "2               3  borrow     0.000403\n",
       "3               4    lend     0.000042\n",
       "4               5  borrow     0.000018\n",
       "...           ...     ...          ...\n",
       "525594     525595    lend     0.000003\n",
       "525595     525596  borrow     0.000276\n",
       "525596     525597    lend     0.000138\n",
       "525597     525598    lend     0.000058\n",
       "525598     525599  borrow     0.000006\n",
       "\n",
       "[525599 rows x 3 columns]"
      ]
     },
     "execution_count": 16,
     "metadata": {},
     "output_type": "execute_result"
    }
   ],
   "source": [
    "trade_df"
   ]
  },
  {
   "cell_type": "code",
   "execution_count": null,
   "id": "a87cb310",
   "metadata": {},
   "outputs": [],
   "source": []
  },
  {
   "cell_type": "code",
   "execution_count": 17,
   "id": "0259c1a6",
   "metadata": {},
   "outputs": [],
   "source": [
    "import enum"
   ]
  },
  {
   "cell_type": "code",
   "execution_count": 18,
   "id": "f0e4aaf6",
   "metadata": {},
   "outputs": [],
   "source": [
    "class Action(enum.Enum):\n",
    "    \n",
    "    OPEN_POSITION = 'open_position'\n",
    "    LIQUIDATE = 'liquidate'\n",
    "    \n",
    "class Actor(enum.Enum): \n",
    "    \n",
    "    LENDER = 'lender'\n",
    "    BORROWER = 'borrower'"
   ]
  },
  {
   "cell_type": "code",
   "execution_count": 19,
   "id": "2316de55",
   "metadata": {},
   "outputs": [],
   "source": [
    "def make_action(df, timestamp_pivot): \n",
    "    \n",
    "    df['position'] = df.actor_signal * df.sign\n",
    "    \n",
    "    df['actor'] = df.actor_signal.map({1: Actor.LENDER.value, -1: Actor.BORROWER.value})\n",
    "    df['action'] = df.position.map({1: Action.OPEN_POSITION.value, -1: Action.LIQUIDATE.value})\n",
    "    \n",
    "    df['actor'] = np.where(df.timestamp <= timestamp_pivot, \n",
    "                           df.sign.map({1: Actor.LENDER.value, -1: Actor.BORROWER.value}), \n",
    "                           df.actor)\n",
    "    df['action'] = np.where(df.timestamp <= timestamp_pivot, Action.OPEN_POSITION.value, df.action)\n",
    "    \n",
    "    return df"
   ]
  },
  {
   "cell_type": "code",
   "execution_count": 20,
   "id": "265f8ea2",
   "metadata": {},
   "outputs": [],
   "source": [
    "def make_new_input(df, initial_position=0.4, scale_time=1):\n",
    "    \n",
    "    df = df.copy()\n",
    "    \n",
    "    df['sign'] = df.action.map({'lend': 1, 'borrow': -1})\n",
    "    df['net_volume'] = df.bond_volume * df.sign\n",
    "    df['cum_position'] = df.sort_values(by='timestamp', ascending=True).groupby('action', as_index=False)['net_volume'].cumsum()\n",
    "    \n",
    "    time_pivot = df[(df.action == 'lend') & (df.cum_position < initial_position)].timestamp.max()\n",
    "    actor = np.random.binomial(1, 0.5, size=df.shape[0]) * 2 - 1\n",
    "    \n",
    "    df['actor_signal'] = actor\n",
    "    \n",
    "    df = make_action(df, time_pivot)\n",
    "    \n",
    "    df.timestamp = df.timestamp *  scale_time\n",
    "    \n",
    "    return df[['timestamp', 'actor', 'action', 'bond_volume']]"
   ]
  },
  {
   "cell_type": "code",
   "execution_count": 22,
   "id": "4a4bcf8e",
   "metadata": {},
   "outputs": [],
   "source": [
    "def create_input_dx(T, N, r0, a, b, sigma, r_min, r_max):\n",
    "    rate = Rate(T=T, N=N, r0=r0, a=a, b=b, sigma=sigma)\n",
    "    r = rate.cir()\n",
    "    A = y0 / calculate_y(r0, r_min, r_max, A=1, t=0, T=T)\n",
    "    x = calculate_x(r, r_min, r_max, A=A, t=np.arange(0, N) * T / N, T=T)\n",
    "    y = calculate_y(r, r_min, r_max, A=A, t=np.arange(0, N) * T / N, T=T)\n",
    "    dx = np.diff(x)\n",
    "    dy = np.diff(y)\n",
    "    trade_sides, trade_volumes = sample_trade(dx, dy)\n",
    "    trade_df = pd.DataFrame({'dx': dx, 'dy': dy})\n",
    "    trade_df['action'] = trade_df.dx.apply(lambda x: 'lend' if x < 0 else 'borrow')\n",
    "    trade_df = trade_df.reset_index().rename(\n",
    "        columns={'index': 'timestamp', 'dx': 'bond_volume'}\n",
    "    )[['timestamp', 'action', 'bond_volume']]\n",
    "    trade_df.bond_volume = np.abs(trade_df.bond_volume)\n",
    "    trade_df.timestamp = trade_df.timestamp * 10 + 1\n",
    "\n",
    "    dx_df = make_new_input(trade_df, initial_position=0.4, scale_time=1)\n",
    "    return dx_df"
   ]
  },
  {
   "cell_type": "code",
   "execution_count": 41,
   "id": "693d887d",
   "metadata": {},
   "outputs": [],
   "source": [
    "dx_df = create_input_dx(T, N, r0, a, b, 0.5, 0.01, 0.1)"
   ]
  },
  {
   "cell_type": "code",
   "execution_count": 42,
   "id": "1e5f564c",
   "metadata": {},
   "outputs": [],
   "source": [
    "dx_df.bond_volume *= 10"
   ]
  },
  {
   "cell_type": "code",
   "execution_count": 43,
   "id": "138c982e",
   "metadata": {},
   "outputs": [],
   "source": [
    "dx_df.to_csv(f'E:/bond-dex/bond-amm-simulation/sources/input/dx/synthetic_calibrate_4.csv', index=False)"
   ]
  },
  {
   "cell_type": "code",
   "execution_count": 44,
   "id": "3aefbeb9",
   "metadata": {},
   "outputs": [
    {
     "data": {
      "text/html": [
       "<div>\n",
       "<style scoped>\n",
       "    .dataframe tbody tr th:only-of-type {\n",
       "        vertical-align: middle;\n",
       "    }\n",
       "\n",
       "    .dataframe tbody tr th {\n",
       "        vertical-align: top;\n",
       "    }\n",
       "\n",
       "    .dataframe thead th {\n",
       "        text-align: right;\n",
       "    }\n",
       "</style>\n",
       "<table border=\"1\" class=\"dataframe\">\n",
       "  <thead>\n",
       "    <tr style=\"text-align: right;\">\n",
       "      <th></th>\n",
       "      <th>timestamp</th>\n",
       "      <th>bond_volume</th>\n",
       "    </tr>\n",
       "  </thead>\n",
       "  <tbody>\n",
       "    <tr>\n",
       "      <th>count</th>\n",
       "      <td>5.255990e+05</td>\n",
       "      <td>5.255990e+05</td>\n",
       "    </tr>\n",
       "    <tr>\n",
       "      <th>mean</th>\n",
       "      <td>2.627991e+06</td>\n",
       "      <td>1.178987e-02</td>\n",
       "    </tr>\n",
       "    <tr>\n",
       "      <th>std</th>\n",
       "      <td>1.517275e+06</td>\n",
       "      <td>1.020532e-02</td>\n",
       "    </tr>\n",
       "    <tr>\n",
       "      <th>min</th>\n",
       "      <td>1.000000e+00</td>\n",
       "      <td>4.127565e-08</td>\n",
       "    </tr>\n",
       "    <tr>\n",
       "      <th>25%</th>\n",
       "      <td>1.313996e+06</td>\n",
       "      <td>4.094170e-03</td>\n",
       "    </tr>\n",
       "    <tr>\n",
       "      <th>50%</th>\n",
       "      <td>2.627991e+06</td>\n",
       "      <td>9.065695e-03</td>\n",
       "    </tr>\n",
       "    <tr>\n",
       "      <th>75%</th>\n",
       "      <td>3.941986e+06</td>\n",
       "      <td>1.671256e-02</td>\n",
       "    </tr>\n",
       "    <tr>\n",
       "      <th>max</th>\n",
       "      <td>5.255981e+06</td>\n",
       "      <td>1.040785e-01</td>\n",
       "    </tr>\n",
       "  </tbody>\n",
       "</table>\n",
       "</div>"
      ],
      "text/plain": [
       "          timestamp   bond_volume\n",
       "count  5.255990e+05  5.255990e+05\n",
       "mean   2.627991e+06  1.178987e-02\n",
       "std    1.517275e+06  1.020532e-02\n",
       "min    1.000000e+00  4.127565e-08\n",
       "25%    1.313996e+06  4.094170e-03\n",
       "50%    2.627991e+06  9.065695e-03\n",
       "75%    3.941986e+06  1.671256e-02\n",
       "max    5.255981e+06  1.040785e-01"
      ]
     },
     "execution_count": 44,
     "metadata": {},
     "output_type": "execute_result"
    }
   ],
   "source": [
    "dx_df.describe()"
   ]
  },
  {
   "cell_type": "code",
   "execution_count": 52,
   "id": "735df230",
   "metadata": {},
   "outputs": [],
   "source": [
    "for version, sigma, r_min in zip([1, 2, 3], [0.05, 0.2, 0.5], [0.01, 0.01, 0.001]):\n",
    "\n",
    "    dx_df = create_input_dx(T, N, r0, a, b, sigma, r_min, r_max)\n",
    "    \n",
    "    dx_df.to_csv(f'E:/bond-dex/bond-amm-simulation/sources/input/dx/synthetic_calibrate_{version}.csv', index=False)"
   ]
  },
  {
   "cell_type": "code",
   "execution_count": 31,
   "id": "6f3ca6f3",
   "metadata": {},
   "outputs": [
    {
     "data": {
      "text/html": [
       "<div>\n",
       "<style scoped>\n",
       "    .dataframe tbody tr th:only-of-type {\n",
       "        vertical-align: middle;\n",
       "    }\n",
       "\n",
       "    .dataframe tbody tr th {\n",
       "        vertical-align: top;\n",
       "    }\n",
       "\n",
       "    .dataframe thead th {\n",
       "        text-align: right;\n",
       "    }\n",
       "</style>\n",
       "<table border=\"1\" class=\"dataframe\">\n",
       "  <thead>\n",
       "    <tr style=\"text-align: right;\">\n",
       "      <th></th>\n",
       "      <th>timestamp</th>\n",
       "      <th>actor</th>\n",
       "      <th>action</th>\n",
       "      <th>bond_volume</th>\n",
       "    </tr>\n",
       "  </thead>\n",
       "  <tbody>\n",
       "    <tr>\n",
       "      <th>0</th>\n",
       "      <td>1</td>\n",
       "      <td>borrower</td>\n",
       "      <td>open_position</td>\n",
       "      <td>0.002925</td>\n",
       "    </tr>\n",
       "    <tr>\n",
       "      <th>1</th>\n",
       "      <td>11</td>\n",
       "      <td>lender</td>\n",
       "      <td>open_position</td>\n",
       "      <td>0.002195</td>\n",
       "    </tr>\n",
       "    <tr>\n",
       "      <th>2</th>\n",
       "      <td>21</td>\n",
       "      <td>borrower</td>\n",
       "      <td>open_position</td>\n",
       "      <td>0.016119</td>\n",
       "    </tr>\n",
       "    <tr>\n",
       "      <th>3</th>\n",
       "      <td>31</td>\n",
       "      <td>lender</td>\n",
       "      <td>open_position</td>\n",
       "      <td>0.001678</td>\n",
       "    </tr>\n",
       "    <tr>\n",
       "      <th>4</th>\n",
       "      <td>41</td>\n",
       "      <td>borrower</td>\n",
       "      <td>open_position</td>\n",
       "      <td>0.000729</td>\n",
       "    </tr>\n",
       "    <tr>\n",
       "      <th>...</th>\n",
       "      <td>...</td>\n",
       "      <td>...</td>\n",
       "      <td>...</td>\n",
       "      <td>...</td>\n",
       "    </tr>\n",
       "    <tr>\n",
       "      <th>525594</th>\n",
       "      <td>5255941</td>\n",
       "      <td>lender</td>\n",
       "      <td>open_position</td>\n",
       "      <td>0.000062</td>\n",
       "    </tr>\n",
       "    <tr>\n",
       "      <th>525595</th>\n",
       "      <td>5255951</td>\n",
       "      <td>borrower</td>\n",
       "      <td>open_position</td>\n",
       "      <td>0.005398</td>\n",
       "    </tr>\n",
       "    <tr>\n",
       "      <th>525596</th>\n",
       "      <td>5255961</td>\n",
       "      <td>borrower</td>\n",
       "      <td>liquidate</td>\n",
       "      <td>0.002711</td>\n",
       "    </tr>\n",
       "    <tr>\n",
       "      <th>525597</th>\n",
       "      <td>5255971</td>\n",
       "      <td>borrower</td>\n",
       "      <td>liquidate</td>\n",
       "      <td>0.001134</td>\n",
       "    </tr>\n",
       "    <tr>\n",
       "      <th>525598</th>\n",
       "      <td>5255981</td>\n",
       "      <td>borrower</td>\n",
       "      <td>open_position</td>\n",
       "      <td>0.000119</td>\n",
       "    </tr>\n",
       "  </tbody>\n",
       "</table>\n",
       "<p>525599 rows × 4 columns</p>\n",
       "</div>"
      ],
      "text/plain": [
       "        timestamp     actor         action  bond_volume\n",
       "0               1  borrower  open_position     0.002925\n",
       "1              11    lender  open_position     0.002195\n",
       "2              21  borrower  open_position     0.016119\n",
       "3              31    lender  open_position     0.001678\n",
       "4              41  borrower  open_position     0.000729\n",
       "...           ...       ...            ...          ...\n",
       "525594    5255941    lender  open_position     0.000062\n",
       "525595    5255951  borrower  open_position     0.005398\n",
       "525596    5255961  borrower      liquidate     0.002711\n",
       "525597    5255971  borrower      liquidate     0.001134\n",
       "525598    5255981  borrower  open_position     0.000119\n",
       "\n",
       "[525599 rows x 4 columns]"
      ]
     },
     "execution_count": 31,
     "metadata": {},
     "output_type": "execute_result"
    }
   ],
   "source": [
    "dx_df"
   ]
  }
 ],
 "metadata": {
  "kernelspec": {
   "display_name": "Python 3 (ipykernel)",
   "language": "python",
   "name": "python3"
  },
  "language_info": {
   "codemirror_mode": {
    "name": "ipython",
    "version": 3
   },
   "file_extension": ".py",
   "mimetype": "text/x-python",
   "name": "python",
   "nbconvert_exporter": "python",
   "pygments_lexer": "ipython3",
   "version": "3.10.9"
  }
 },
 "nbformat": 4,
 "nbformat_minor": 5
}
