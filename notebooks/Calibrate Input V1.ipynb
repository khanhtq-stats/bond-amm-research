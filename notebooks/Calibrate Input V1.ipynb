{
 "cells": [
  {
   "cell_type": "code",
   "execution_count": 1,
   "id": "49214242",
   "metadata": {},
   "outputs": [],
   "source": [
    "import matplotlib.pyplot as plt \n",
    "import pandas as pd \n",
    "import seaborn as sns \n",
    "import numpy as np"
   ]
  },
  {
   "cell_type": "code",
   "execution_count": 2,
   "id": "5a4803a0",
   "metadata": {},
   "outputs": [],
   "source": [
    "import enum"
   ]
  },
  {
   "cell_type": "code",
   "execution_count": 3,
   "id": "72236279",
   "metadata": {},
   "outputs": [],
   "source": [
    "import os \n",
    "\n",
    "os.chdir('E://bond-dex/bond-amm-simulation/')"
   ]
  },
  {
   "cell_type": "code",
   "execution_count": 4,
   "id": "afeab37d",
   "metadata": {},
   "outputs": [],
   "source": [
    "df = pd.read_csv('sources/input/actor_trade/synthetic_sample_1.csv')"
   ]
  },
  {
   "cell_type": "code",
   "execution_count": 5,
   "id": "f0e4aaf6",
   "metadata": {},
   "outputs": [],
   "source": [
    "class Action(enum.Enum):\n",
    "    \n",
    "    OPEN_POSITION = 'open_position'\n",
    "    LIQUIDATE = 'liquidate'\n",
    "    \n",
    "class Actor(enum.Enum): \n",
    "    \n",
    "    LENDER = 'lender'\n",
    "    BORROWER = 'borrower'"
   ]
  },
  {
   "cell_type": "code",
   "execution_count": 6,
   "id": "2316de55",
   "metadata": {},
   "outputs": [],
   "source": [
    "def make_action(df, timestamp_pivot): \n",
    "    \n",
    "    df['position'] = df.actor_signal * df.sign\n",
    "    \n",
    "    df['actor'] = df.actor_signal.map({1: Actor.LENDER.value, -1: Actor.BORROWER.value})\n",
    "    df['action'] = df.position.map({1: Action.OPEN_POSITION.value, -1: Action.LIQUIDATE.value})\n",
    "    \n",
    "    df['actor'] = np.where(df.timestamp <= timestamp_pivot, \n",
    "                           df.sign.map({1: Actor.LENDER.value, -1: Actor.BORROWER.value}), \n",
    "                           df.actor)\n",
    "    df['action'] = np.where(df.timestamp <= timestamp_pivot, Action.OPEN_POSITION.value, df.action)\n",
    "    \n",
    "    return df"
   ]
  },
  {
   "cell_type": "code",
   "execution_count": 10,
   "id": "265f8ea2",
   "metadata": {},
   "outputs": [],
   "source": [
    "def make_new_input(df, initial_position=0.4, scale_time=1):\n",
    "    \n",
    "    df = df.copy()\n",
    "    \n",
    "    df['sign'] = df.action.map({'lend': 1, 'borrow': -1})\n",
    "    df['net_volume'] = df.cash_volume * df.sign\n",
    "    df['cum_position'] = df.sort_values(by='timestamp', ascending=True).groupby('action', as_index=False)['net_volume'].cumsum()\n",
    "    \n",
    "    time_pivot = df[(df.action == 'lend') & (df.cum_position < initial_position)].timestamp.max()\n",
    "    actor = np.random.binomial(1, 0.5, size=df.shape[0]) * 2 - 1\n",
    "    \n",
    "    df['actor_signal'] = actor\n",
    "    \n",
    "    df = make_action(df, time_pivot)\n",
    "    \n",
    "    df.timestamp = df.timestamp *  scale_time\n",
    "    \n",
    "    return df[['timestamp', 'actor', 'action', 'cash_volume']]"
   ]
  },
  {
   "cell_type": "code",
   "execution_count": 11,
   "id": "a33aa60e",
   "metadata": {},
   "outputs": [],
   "source": [
    "def calibrate_synthetic(source, dest):\n",
    "    df = pd.read_csv(source)\n",
    "    \n",
    "    new_df = make_new_input(df, initial_position=0.3, scale_time=10)\n",
    "    \n",
    "    new_df.to_csv(dest, index=False)"
   ]
  },
  {
   "cell_type": "code",
   "execution_count": 14,
   "id": "6ea603a2",
   "metadata": {},
   "outputs": [],
   "source": [
    "sources = ['sources/input/actor_trade/synthetic_sample_1.csv', \n",
    "           'sources/input/actor_trade/synthetic_sample_2.csv', \n",
    "           'sources/input/actor_trade/synthetic_sample_3.csv']\n",
    "dests = ['sources/input/actor_trade/synthetic_calibrate_full_1.csv', \n",
    "         'sources/input/actor_trade/synthetic_calibrate_full_2.csv', \n",
    "         'sources/input/actor_trade/synthetic_calibrate_full_3.csv']\n",
    "\n",
    "for s, d in zip(sources, dests):\n",
    "    calibrate_synthetic(s, d)"
   ]
  },
  {
   "cell_type": "code",
   "execution_count": 9,
   "id": "b817b521",
   "metadata": {},
   "outputs": [],
   "source": [
    "sources = ['sources/input/actor_trade/single_trade_1.csv']\n",
    "dests = ['sources/input/actor_trade/extreme_calibrate_1.csv']\n",
    "\n",
    "for s, d in zip(sources, dests):\n",
    "    calibrate_synthetic(s, d)"
   ]
  },
  {
   "cell_type": "code",
   "execution_count": 78,
   "id": "99d7b269",
   "metadata": {},
   "outputs": [],
   "source": [
    "new_df = make_new_input(df)"
   ]
  },
  {
   "cell_type": "code",
   "execution_count": 52,
   "id": "2202aef1",
   "metadata": {
    "scrolled": false
   },
   "outputs": [],
   "source": [
    "df['x'] = df.groupby('actor')['net_volume'].cumsum()"
   ]
  },
  {
   "cell_type": "code",
   "execution_count": 54,
   "id": "e78de1bc",
   "metadata": {},
   "outputs": [
    {
     "data": {
      "text/plain": [
       "<Axes: xlabel='timestamp', ylabel='x'>"
      ]
     },
     "execution_count": 54,
     "metadata": {},
     "output_type": "execute_result"
    },
    {
     "data": {
      "image/png": "[encoded data removed]",
      "text/plain": [
       "<Figure size 640x480 with 1 Axes>"
      ]
     },
     "metadata": {},
     "output_type": "display_data"
    }
   ],
   "source": [
    "sns.lineplot(data=df, x='timestamp', y='x', hue='actor')"
   ]
  },
  {
   "cell_type": "code",
   "execution_count": 87,
   "id": "4afd4b7f",
   "metadata": {},
   "outputs": [
    {
     "data": {
      "text/html": [
       "<div>\n",
       "<style scoped>\n",
       "    .dataframe tbody tr th:only-of-type {\n",
       "        vertical-align: middle;\n",
       "    }\n",
       "\n",
       "    .dataframe tbody tr th {\n",
       "        vertical-align: top;\n",
       "    }\n",
       "\n",
       "    .dataframe thead th {\n",
       "        text-align: right;\n",
       "    }\n",
       "</style>\n",
       "<table border=\"1\" class=\"dataframe\">\n",
       "  <thead>\n",
       "    <tr style=\"text-align: right;\">\n",
       "      <th></th>\n",
       "      <th>timestamp</th>\n",
       "      <th>actor</th>\n",
       "      <th>action</th>\n",
       "      <th>cash_volume</th>\n",
       "    </tr>\n",
       "  </thead>\n",
       "  <tbody>\n",
       "    <tr>\n",
       "      <th>0</th>\n",
       "      <td>1</td>\n",
       "      <td>lender</td>\n",
       "      <td>open_position</td>\n",
       "      <td>0.000174</td>\n",
       "    </tr>\n",
       "    <tr>\n",
       "      <th>1</th>\n",
       "      <td>2</td>\n",
       "      <td>lender</td>\n",
       "      <td>open_position</td>\n",
       "      <td>0.000033</td>\n",
       "    </tr>\n",
       "    <tr>\n",
       "      <th>2</th>\n",
       "      <td>3</td>\n",
       "      <td>lender</td>\n",
       "      <td>open_position</td>\n",
       "      <td>0.000005</td>\n",
       "    </tr>\n",
       "    <tr>\n",
       "      <th>3</th>\n",
       "      <td>4</td>\n",
       "      <td>borrower</td>\n",
       "      <td>open_position</td>\n",
       "      <td>0.000070</td>\n",
       "    </tr>\n",
       "    <tr>\n",
       "      <th>4</th>\n",
       "      <td>5</td>\n",
       "      <td>borrower</td>\n",
       "      <td>open_position</td>\n",
       "      <td>0.000021</td>\n",
       "    </tr>\n",
       "    <tr>\n",
       "      <th>...</th>\n",
       "      <td>...</td>\n",
       "      <td>...</td>\n",
       "      <td>...</td>\n",
       "      <td>...</td>\n",
       "    </tr>\n",
       "    <tr>\n",
       "      <th>525594</th>\n",
       "      <td>525595</td>\n",
       "      <td>lender</td>\n",
       "      <td>liquidate</td>\n",
       "      <td>0.000209</td>\n",
       "    </tr>\n",
       "    <tr>\n",
       "      <th>525595</th>\n",
       "      <td>525596</td>\n",
       "      <td>lender</td>\n",
       "      <td>open_position</td>\n",
       "      <td>0.000389</td>\n",
       "    </tr>\n",
       "    <tr>\n",
       "      <th>525596</th>\n",
       "      <td>525597</td>\n",
       "      <td>borrower</td>\n",
       "      <td>liquidate</td>\n",
       "      <td>0.000207</td>\n",
       "    </tr>\n",
       "    <tr>\n",
       "      <th>525597</th>\n",
       "      <td>525598</td>\n",
       "      <td>lender</td>\n",
       "      <td>liquidate</td>\n",
       "      <td>0.000025</td>\n",
       "    </tr>\n",
       "    <tr>\n",
       "      <th>525598</th>\n",
       "      <td>525599</td>\n",
       "      <td>borrower</td>\n",
       "      <td>liquidate</td>\n",
       "      <td>0.000232</td>\n",
       "    </tr>\n",
       "  </tbody>\n",
       "</table>\n",
       "<p>525599 rows × 4 columns</p>\n",
       "</div>"
      ],
      "text/plain": [
       "        timestamp     actor         action  cash_volume\n",
       "0               1    lender  open_position     0.000174\n",
       "1               2    lender  open_position     0.000033\n",
       "2               3    lender  open_position     0.000005\n",
       "3               4  borrower  open_position     0.000070\n",
       "4               5  borrower  open_position     0.000021\n",
       "...           ...       ...            ...          ...\n",
       "525594     525595    lender      liquidate     0.000209\n",
       "525595     525596    lender  open_position     0.000389\n",
       "525596     525597  borrower      liquidate     0.000207\n",
       "525597     525598    lender      liquidate     0.000025\n",
       "525598     525599  borrower      liquidate     0.000232\n",
       "\n",
       "[525599 rows x 4 columns]"
      ]
     },
     "execution_count": 87,
     "metadata": {},
     "output_type": "execute_result"
    }
   ],
   "source": [
    "new_df"
   ]
  }
 ],
 "metadata": {
  "kernelspec": {
   "display_name": "Python 3 (ipykernel)",
   "language": "python",
   "name": "python3"
  },
  "language_info": {
   "codemirror_mode": {
    "name": "ipython",
    "version": 3
   },
   "file_extension": ".py",
   "mimetype": "text/x-python",
   "name": "python",
   "nbconvert_exporter": "python",
   "pygments_lexer": "ipython3",
   "version": "3.10.9"
  }
 },
 "nbformat": 4,
 "nbformat_minor": 5
}
